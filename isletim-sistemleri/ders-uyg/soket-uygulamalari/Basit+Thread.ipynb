{
 "cells": [
  {
   "cell_type": "markdown",
   "metadata": {},
   "source": [
    "## İş Parçacığı"
   ]
  },
  {
   "cell_type": "code",
   "execution_count": 5,
   "metadata": {},
   "outputs": [],
   "source": [
    "import threading\n",
    "\n",
    "class DenemeThread(threading.Thread):\n",
    "    \n",
    "    def __init__(self):\n",
    "        threading.Thread.__init__(self)\n",
    "        \n",
    "    \n",
    "    def run(self):\n",
    "        print(\"deneme\")\n"
   ]
  },
  {
   "cell_type": "code",
   "execution_count": 6,
   "metadata": {
    "scrolled": true
   },
   "outputs": [
    {
     "name": "stdout",
     "output_type": "stream",
     "text": [
      "deneme\n"
     ]
    }
   ],
   "source": [
    "t = DenemeThread()\n",
    "t.start()"
   ]
  },
  {
   "cell_type": "code",
   "execution_count": 7,
   "metadata": {},
   "outputs": [],
   "source": [
    "import threading\n",
    "\n",
    "class BasitThread(threading.Thread):\n",
    "    \n",
    "    def __init__(self, sayi):\n",
    "        threading.Thread.__init__(self)\n",
    "        self.sayi = sayi\n",
    "        \n",
    "    \n",
    "    def run(self):\n",
    "        \n",
    "        self.toplam = 0\n",
    "        \n",
    "        for i in range(1,self.sayi+1):\n",
    "            self.toplam = self.toplam + i\n",
    "            \n",
    "        print('Thread - toplama işlemi bitti. Sonuç:', self.toplam)\n",
    "        \n",
    "    def get_toplam(self):\n",
    "        return self.toplam"
   ]
  },
  {
   "cell_type": "code",
   "execution_count": 8,
   "metadata": {},
   "outputs": [
    {
     "name": "stdout",
     "output_type": "stream",
     "text": [
      "Thread - toplama işlemi bitti. Sonuç: 55\n"
     ]
    }
   ],
   "source": [
    "t = BasitThread(10)\n",
    "t.start()"
   ]
  },
  {
   "cell_type": "code",
   "execution_count": 9,
   "metadata": {},
   "outputs": [
    {
     "name": "stdout",
     "output_type": "stream",
     "text": [
      "Ana program - toplam: Thread - toplama işlemi bitti. Sonuç:125250 \n",
      "125250\n"
     ]
    }
   ],
   "source": [
    "t = BasitThread(500)\n",
    "t.start()\n",
    "print('Ana program - toplam:', t.get_toplam())"
   ]
  },
  {
   "cell_type": "code",
   "execution_count": 10,
   "metadata": {},
   "outputs": [],
   "source": [
    "import threading\n",
    "import time\n",
    "\n",
    "class BasitThread(threading.Thread):\n",
    "    \n",
    "    def __init__(self, sayi):\n",
    "        threading.Thread.__init__(self)\n",
    "        self.sayi = sayi\n",
    "        \n",
    "    \n",
    "    def run(self):\n",
    "        \n",
    "        self.toplam = 0\n",
    "        \n",
    "        for i in range(1,self.sayi+1):\n",
    "            self.toplam = self.toplam + i\n",
    "            if i % 100 == 0: time.sleep(1)\n",
    "            \n",
    "        print('Thread - toplama işlemi bitti. Sonuç:', self.toplam)\n",
    "        \n",
    "    def get_toplam(self):\n",
    "        return self.toplam"
   ]
  },
  {
   "cell_type": "code",
   "execution_count": 11,
   "metadata": {},
   "outputs": [
    {
     "name": "stdout",
     "output_type": "stream",
     "text": [
      "Ana program - toplam: 5050\n",
      "Thread - toplama işlemi bitti. Sonuç: 125250\n"
     ]
    }
   ],
   "source": [
    "t = BasitThread(500)\n",
    "t.start()\n",
    "print('Ana program - toplam:', t.get_toplam())"
   ]
  },
  {
   "cell_type": "code",
   "execution_count": 12,
   "metadata": {},
   "outputs": [
    {
     "name": "stdout",
     "output_type": "stream",
     "text": [
      "Thread - toplama işlemi bitti. Sonuç: 125250\n",
      "Ana program - toplam: 125250\n"
     ]
    }
   ],
   "source": [
    "t = BasitThread(500)\n",
    "t.start()\n",
    "t.join()\n",
    "print('Ana program - toplam:', t.get_toplam())"
   ]
  },
  {
   "cell_type": "markdown",
   "metadata": {},
   "source": [
    "## İş Parçacığı Kaynaklar\n",
    "\n",
    "* https://www.tutorialspoint.com/python3/python_multithreading.htm\n",
    "* https://stackoverflow.com/questions/11968689/python-multithreading-wait-till-all-threads-finished"
   ]
  },
  {
   "cell_type": "markdown",
   "metadata": {},
   "source": [
    "## Soketler"
   ]
  },
  {
   "cell_type": "code",
   "execution_count": 13,
   "metadata": {},
   "outputs": [
    {
     "name": "stdout",
     "output_type": "stream",
     "text": [
      "starting up on localhost port 10000\n",
      "waiting for a connection\n"
     ]
    },
    {
     "ename": "KeyboardInterrupt",
     "evalue": "",
     "output_type": "error",
     "traceback": [
      "\u001b[0;31m---------------------------------------------------------------------------\u001b[0m",
      "\u001b[0;31mKeyboardInterrupt\u001b[0m                         Traceback (most recent call last)",
      "\u001b[0;32m<ipython-input-13-897e6b982ac1>\u001b[0m in \u001b[0;36m<module>\u001b[0;34m()\u001b[0m\n\u001b[1;32m     15\u001b[0m     \u001b[0;31m# Wait for a connection\u001b[0m\u001b[0;34m\u001b[0m\u001b[0;34m\u001b[0m\u001b[0m\n\u001b[1;32m     16\u001b[0m     \u001b[0mprint\u001b[0m\u001b[0;34m(\u001b[0m\u001b[0;34m'waiting for a connection'\u001b[0m\u001b[0;34m)\u001b[0m\u001b[0;34m\u001b[0m\u001b[0m\n\u001b[0;32m---> 17\u001b[0;31m     \u001b[0mconnection\u001b[0m\u001b[0;34m,\u001b[0m \u001b[0mclient_address\u001b[0m \u001b[0;34m=\u001b[0m \u001b[0msock\u001b[0m\u001b[0;34m.\u001b[0m\u001b[0maccept\u001b[0m\u001b[0;34m(\u001b[0m\u001b[0;34m)\u001b[0m\u001b[0;34m\u001b[0m\u001b[0m\n\u001b[0m\u001b[1;32m     18\u001b[0m \u001b[0;34m\u001b[0m\u001b[0m\n\u001b[1;32m     19\u001b[0m     \u001b[0;32mtry\u001b[0m\u001b[0;34m:\u001b[0m\u001b[0;34m\u001b[0m\u001b[0m\n",
      "\u001b[0;32m/usr/lib/python3.5/socket.py\u001b[0m in \u001b[0;36maccept\u001b[0;34m(self)\u001b[0m\n\u001b[1;32m    193\u001b[0m         \u001b[0mFor\u001b[0m \u001b[0mIP\u001b[0m \u001b[0msockets\u001b[0m\u001b[0;34m,\u001b[0m \u001b[0mthe\u001b[0m \u001b[0maddress\u001b[0m \u001b[0minfo\u001b[0m \u001b[0;32mis\u001b[0m \u001b[0ma\u001b[0m \u001b[0mpair\u001b[0m \u001b[0;34m(\u001b[0m\u001b[0mhostaddr\u001b[0m\u001b[0;34m,\u001b[0m \u001b[0mport\u001b[0m\u001b[0;34m)\u001b[0m\u001b[0;34m.\u001b[0m\u001b[0;34m\u001b[0m\u001b[0m\n\u001b[1;32m    194\u001b[0m         \"\"\"\n\u001b[0;32m--> 195\u001b[0;31m         \u001b[0mfd\u001b[0m\u001b[0;34m,\u001b[0m \u001b[0maddr\u001b[0m \u001b[0;34m=\u001b[0m \u001b[0mself\u001b[0m\u001b[0;34m.\u001b[0m\u001b[0m_accept\u001b[0m\u001b[0;34m(\u001b[0m\u001b[0;34m)\u001b[0m\u001b[0;34m\u001b[0m\u001b[0m\n\u001b[0m\u001b[1;32m    196\u001b[0m         \u001b[0;31m# If our type has the SOCK_NONBLOCK flag, we shouldn't pass it onto the\u001b[0m\u001b[0;34m\u001b[0m\u001b[0;34m\u001b[0m\u001b[0m\n\u001b[1;32m    197\u001b[0m         \u001b[0;31m# new socket. We do not currently allow passing SOCK_NONBLOCK to\u001b[0m\u001b[0;34m\u001b[0m\u001b[0;34m\u001b[0m\u001b[0m\n",
      "\u001b[0;31mKeyboardInterrupt\u001b[0m: "
     ]
    }
   ],
   "source": [
    "import socket\n",
    "\n",
    "# Create a TCP/IP socket\n",
    "sock = socket.socket(socket.AF_INET, socket.SOCK_STREAM)\n",
    "\n",
    "# Bind the socket to the port\n",
    "server_address = ('localhost', 10000)\n",
    "print('starting up on %s port %s' % server_address)\n",
    "sock.bind(server_address)\n",
    "\n",
    "# Listen for incoming connections\n",
    "sock.listen(1)\n",
    "\n",
    "while True:\n",
    "    # Wait for a connection\n",
    "    print('waiting for a connection')\n",
    "    connection, client_address = sock.accept()\n",
    "    \n",
    "    try:\n",
    "        print('connection from', client_address)\n",
    "\n",
    "        # Receive the data in small chunks and retransmit it\n",
    "        while True:\n",
    "            data = connection.recv(16).decode('utf-8')\n",
    "            print('received \"%s\"' % data)\n",
    "            if data:\n",
    "                print('sending data back to the client')\n",
    "                connection.sendall(data.encode('utf-8'))\n",
    "            else:\n",
    "                print('no more data from', client_address)\n",
    "                break\n",
    "            \n",
    "    finally:\n",
    "        # Clean up the connection\n",
    "        connection.close()    "
   ]
  },
  {
   "cell_type": "code",
   "execution_count": null,
   "metadata": {},
   "outputs": [],
   "source": [
    "import socket\n",
    "import sys\n",
    "\n",
    "# Create a TCP/IP socket\n",
    "sock = socket.socket(socket.AF_INET, socket.SOCK_STREAM)\n",
    "\n",
    "# Connect the socket to the port where the server is listening\n",
    "server_address = ('localhost', 10000)\n",
    "print('connecting to %s port %s' % server_address)\n",
    "sock.connect(server_address)\n",
    "\n",
    "try:\n",
    "    \n",
    "    # Send data\n",
    "    message = 'İşletim sistemleri dersi ne zaman bitecek?'\n",
    "    print('sending \"%s\"' % message)\n",
    "    sock.sendall(message.encode('utf-8'))\n",
    "\n",
    "    # Look for the response\n",
    "    amount_received = 0\n",
    "    amount_expected = len(message)\n",
    "    \n",
    "    while amount_received < amount_expected:\n",
    "        data = sock.recv(16)\n",
    "        amount_received += len(data)\n",
    "        print('received \"%s\"' % data)\n",
    "\n",
    "finally:\n",
    "    print('closing socket')\n",
    "    sock.close()"
   ]
  },
  {
   "cell_type": "markdown",
   "metadata": {},
   "source": [
    "## Soket Kaynaklar\n",
    "\n",
    "* https://pymotw.com/2/socket/tcp.html\n",
    "* https://docs.python.org/3/library/socket.html"
   ]
  },
  {
   "cell_type": "markdown",
   "metadata": {},
   "source": [
    "## Process\n",
    "\n",
    "### fork()"
   ]
  },
  {
   "cell_type": "code",
   "execution_count": 1,
   "metadata": {},
   "outputs": [
    {
     "name": "stdout",
     "output_type": "stream",
     "text": [
      "I'm just a child\n",
      "I'm the parent\n",
      "I'm just a child\n",
      "I'm the parent\n",
      "I'm just a child\n",
      "I'm the parent\n",
      "I'm just a child\n",
      "I'm the parent\n",
      "I'm just a child\n",
      "I'm the parent\n",
      "I'm just a child\n",
      "I'm the parent\n",
      "I'm just a child\n",
      "I'm the parent\n",
      "I'm just a child\n",
      "I'm the parent\n",
      "I'm just a child\n",
      "I'm the parent\n",
      "I'm just a child\n",
      "I'm the parent\n",
      "I'm just a child\n",
      "I'm the parent\n"
     ]
    }
   ],
   "source": [
    "import os\n",
    "import time\n",
    "\n",
    "pid=os.fork()\n",
    "if pid:\n",
    "    # parent\n",
    "    counter = 0\n",
    "    while True:\n",
    "        if counter > 10: break\n",
    "        print(\"I'm the parent\")\n",
    "        time.sleep(0.5)    \n",
    "        counter+=1\n",
    "else:\n",
    "    # child\n",
    "    counter = 0\n",
    "    while True:\n",
    "        if counter > 10: break\n",
    "        print(\"I'm just a child\")\n",
    "        time.sleep(0.5)\n",
    "        counter+=1"
   ]
  }
 ],
 "metadata": {
  "kernelspec": {
   "display_name": "Python 3",
   "language": "python",
   "name": "python3"
  },
  "language_info": {
   "codemirror_mode": {
    "name": "ipython",
    "version": 3
   },
   "file_extension": ".py",
   "mimetype": "text/x-python",
   "name": "python",
   "nbconvert_exporter": "python",
   "pygments_lexer": "ipython3",
   "version": "3.5.2"
  }
 },
 "nbformat": 4,
 "nbformat_minor": 2
}
